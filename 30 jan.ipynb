{
 "cells": [
  {
   "cell_type": "markdown",
   "id": "a962f5b4-c13d-41f6-946d-e20b6efd1fc9",
   "metadata": {},
   "source": [
    "1. Write a program to accept percentage from the user and display the grade according to the following \n",
    "criteria: \n",
    "Marks \n",
    "Grade \n",
    ">90 \n",
    "A \n",
    ">80 and <=90 \n",
    "B \n",
    ">=60 and <=80 \n",
    "C \n",
    "below 60 \n"
   ]
  },
  {
   "cell_type": "code",
   "execution_count": 1,
   "id": "a6486ab9-2392-485e-a685-a8a84ead9f36",
   "metadata": {},
   "outputs": [
    {
     "name": "stdin",
     "output_type": "stream",
     "text": [
      "Enter the percentage:  67\n"
     ]
    },
    {
     "name": "stdout",
     "output_type": "stream",
     "text": [
      "Grade: C\n"
     ]
    }
   ],
   "source": [
    "percentage = float(input(\"Enter the percentage: \"))\n",
    "\n",
    "if percentage > 90:\n",
    "    grade = \"A\"\n",
    "elif percentage > 80:\n",
    "    grade = \"B\"\n",
    "elif percentage >= 60:\n",
    "    grade = \"C\"\n",
    "else:\n",
    "    grade = \"below 60\"\n",
    "\n",
    "print(\"Grade:\", grade)\n"
   ]
  },
  {
   "cell_type": "markdown",
   "id": "806006d7-07d2-4f4c-b6ea-a5983c885ebc",
   "metadata": {},
   "source": [
    "2.. Write a program to accept the cost price of a bike and display the road tax to be paid according to the \n",
    "following criteria: \n",
    "Tax \n",
    "15% \n",
    "10% \n",
    "5% \n",
    "Cost Price(in Rs) \n",
    ">100000 \n",
    "5 \n",
    "50000 and <= 100000 \n",
    "<= 50000 \n"
   ]
  },
  {
   "cell_type": "code",
   "execution_count": 2,
   "id": "b887e212-ea42-40c4-b52a-faf5c5d5a100",
   "metadata": {},
   "outputs": [
    {
     "name": "stdin",
     "output_type": "stream",
     "text": [
      "Enter the cost price of the bike (in Rs):  67\n"
     ]
    },
    {
     "name": "stdout",
     "output_type": "stream",
     "text": [
      "Road tax to be paid: Rs 3.35\n"
     ]
    }
   ],
   "source": [
    "cost_price = float(input(\"Enter the cost price of the bike (in Rs): \"))\n",
    "\n",
    "if cost_price > 100000:\n",
    "    road_tax = cost_price * 0.15\n",
    "elif cost_price > 50000:\n",
    "    road_tax = cost_price * 0.10\n",
    "else:\n",
    "    road_tax = cost_price * 0.05\n",
    "\n",
    "print(\"Road tax to be paid: Rs\", road_tax)\n"
   ]
  },
  {
   "cell_type": "markdown",
   "id": "c9856098-2624-40b9-9be3-2a677d84396c",
   "metadata": {},
   "source": [
    "3.ccept any city from the user and display monuments of that city. \n",
    "City \n",
    "Delhi \n",
    "Monument \n",
    "Red Fort \n",
    "Taj Mahal \n",
    "Agra \n",
    "Jaipur \n",
    "Jal Mahal \n"
   ]
  },
  {
   "cell_type": "code",
   "execution_count": 5,
   "id": "6723ac8c-98f5-4824-80f4-2ebfd763d5b8",
   "metadata": {},
   "outputs": [
    {
     "name": "stdin",
     "output_type": "stream",
     "text": [
      "Enter a city:  Agra\n"
     ]
    },
    {
     "name": "stdout",
     "output_type": "stream",
     "text": [
      "Monuments in Agra:\n",
      "Taj Mahal\n"
     ]
    }
   ],
   "source": [
    "monuments = {\n",
    "    \"Delhi\": [\"Red Fort\", \"Taj Mahal\"],\n",
    "    \"Agra\": [\"Taj Mahal\"],\n",
    "    \"Jaipur\": [\"Jal Mahal\"]\n",
    "}\n",
    "\n",
    "city = input(\"Enter a city: \")\n",
    "\n",
    "if city in monuments:\n",
    "    city_monuments = monuments[city]\n",
    "    print(\"Monuments in\", city + \":\")\n",
    "    for monument in city_monuments:\n",
    "        print(monument)\n",
    "else:\n",
    "    print(\"No monuments found for\", city)\n"
   ]
  },
  {
   "cell_type": "markdown",
   "id": "6f43447a-ce13-46af-ab07-61f01d48d1fb",
   "metadata": {},
   "source": [
    "4.Check how many times a given number can be divided by 3 before it is less than or equal to 10. \n"
   ]
  },
  {
   "cell_type": "code",
   "execution_count": 7,
   "id": "10efec95-5f30-4c32-8d5a-a9cd99b78a17",
   "metadata": {},
   "outputs": [
    {
     "name": "stdin",
     "output_type": "stream",
     "text": [
      "Enter a number:  67\n"
     ]
    },
    {
     "name": "stdout",
     "output_type": "stream",
     "text": [
      "2\n"
     ]
    }
   ],
   "source": [
    "number = int(input(\"Enter a number: \"))\n",
    "count = 0\n",
    "\n",
    "while number > 10:\n",
    "    number /= 3\n",
    "    count += 1\n",
    "\n",
    "print( count)\n",
    "\n"
   ]
  },
  {
   "cell_type": "markdown",
   "id": "e653e8a8-573e-4061-aa20-30375a14d460",
   "metadata": {},
   "source": [
    "5. Why and When to Use while Loop in Python give a detailed description with example \n"
   ]
  },
  {
   "cell_type": "markdown",
   "id": "b3fa6ab2-72bc-45dd-bf12-a74644a1126f",
   "metadata": {},
   "source": [
    "Utilising a while loop:\n",
    "\n",
    "Use a while loop when you're unsure of the exact number of iterations that the loop will require. Until a particular condition is no longer true, the loop keeps going.\n",
    "When the criterion for loop termination can change while the loop is being executed, use a while loop.\n",
    "\n",
    "Use a while loop to continually ask the user for input until it satisfies certain requirements.\n",
    "Utilise a while loop in event-driven programming to manage events or actions that happen frequently up until a predetermined condition is fulfilled.\n"
   ]
  },
  {
   "cell_type": "code",
   "execution_count": 9,
   "id": "2e01fb86-73a5-4803-b347-27c2461e3ac2",
   "metadata": {},
   "outputs": [
    {
     "name": "stdin",
     "output_type": "stream",
     "text": [
      "Guess the number (between 1 and 10):  56\n"
     ]
    },
    {
     "name": "stdout",
     "output_type": "stream",
     "text": [
      "Too high! Try again.\n"
     ]
    },
    {
     "name": "stdin",
     "output_type": "stream",
     "text": [
      "Guess the number (between 1 and 10):  34\n"
     ]
    },
    {
     "name": "stdout",
     "output_type": "stream",
     "text": [
      "Too high! Try again.\n"
     ]
    },
    {
     "name": "stdin",
     "output_type": "stream",
     "text": [
      "Guess the number (between 1 and 10):  2\n"
     ]
    },
    {
     "name": "stdout",
     "output_type": "stream",
     "text": [
      "Too low! Try again.\n"
     ]
    },
    {
     "name": "stdin",
     "output_type": "stream",
     "text": [
      "Guess the number (between 1 and 10):  3\n"
     ]
    },
    {
     "name": "stdout",
     "output_type": "stream",
     "text": [
      "Too low! Try again.\n"
     ]
    },
    {
     "name": "stdin",
     "output_type": "stream",
     "text": [
      "Guess the number (between 1 and 10):  4\n"
     ]
    },
    {
     "name": "stdout",
     "output_type": "stream",
     "text": [
      "Too low! Try again.\n"
     ]
    },
    {
     "name": "stdin",
     "output_type": "stream",
     "text": [
      "Guess the number (between 1 and 10):  5\n"
     ]
    },
    {
     "name": "stdout",
     "output_type": "stream",
     "text": [
      "Too low! Try again.\n"
     ]
    },
    {
     "name": "stdin",
     "output_type": "stream",
     "text": [
      "Guess the number (between 1 and 10):  6\n"
     ]
    },
    {
     "name": "stdout",
     "output_type": "stream",
     "text": [
      "Too low! Try again.\n"
     ]
    },
    {
     "name": "stdin",
     "output_type": "stream",
     "text": [
      "Guess the number (between 1 and 10):  7\n"
     ]
    },
    {
     "name": "stdout",
     "output_type": "stream",
     "text": [
      "Congratulations! You guessed the correct number: 7\n"
     ]
    }
   ],
   "source": [
    "#example\n",
    "import random\n",
    "\n",
    "target_number = random.randint(1, 10)\n",
    "guess = 0\n",
    "\n",
    "while guess != target_number:\n",
    "    guess = int(input(\"Guess the number (between 1 and 10): \"))\n",
    "\n",
    "    if guess > target_number:\n",
    "        print(\"Too high! Try again.\")\n",
    "    elif guess < target_number:\n",
    "        print(\"Too low! Try again.\")\n",
    "\n",
    "print(\"Congratulations! You guessed the correct number:\", target_number)\n"
   ]
  },
  {
   "cell_type": "markdown",
   "id": "79d310e9-11b1-4447-aaf9-bde7e20622dc",
   "metadata": {},
   "source": [
    "6. Use nested while loop to print 3 different pattern. "
   ]
  },
  {
   "cell_type": "code",
   "execution_count": 10,
   "id": "458d013b-0436-400b-8f8d-09ceb40dac58",
   "metadata": {},
   "outputs": [
    {
     "name": "stdout",
     "output_type": "stream",
     "text": [
      "*\n",
      "**\n",
      "***\n",
      "****\n",
      "*****\n"
     ]
    }
   ],
   "source": [
    "row = 1\n",
    "while row <= 5:\n",
    "    col = 1\n",
    "    while col <= row:\n",
    "        print(\"*\", end=\"\")\n",
    "        col += 1\n",
    "    print()\n",
    "    row += 1\n"
   ]
  },
  {
   "cell_type": "code",
   "execution_count": 11,
   "id": "367048e5-32aa-4e10-bc9a-6d266844029a",
   "metadata": {},
   "outputs": [
    {
     "name": "stdout",
     "output_type": "stream",
     "text": [
      "12345\n",
      "1234\n",
      "123\n",
      "12\n",
      "1\n"
     ]
    }
   ],
   "source": [
    "row = 5\n",
    "while row >= 1:\n",
    "    col = 1\n",
    "    while col <= row:\n",
    "        print(col, end=\"\")\n",
    "        col += 1\n",
    "    print()\n",
    "    row -= 1\n"
   ]
  },
  {
   "cell_type": "code",
   "execution_count": 12,
   "id": "bbb2bdb2-b042-4b96-9a9b-1312ac1a66e4",
   "metadata": {},
   "outputs": [
    {
     "name": "stdout",
     "output_type": "stream",
     "text": [
      "54321\n",
      "5432\n",
      "543\n",
      "54\n",
      "5\n"
     ]
    }
   ],
   "source": [
    "row = 1\n",
    "while row <= 5:\n",
    "    col = 5\n",
    "    while col >= row:\n",
    "        print(col, end=\"\")\n",
    "        col -= 1\n",
    "    print()\n",
    "    row += 1\n"
   ]
  },
  {
   "cell_type": "markdown",
   "id": "9172343e-fb3a-473f-9161-64d1731f590d",
   "metadata": {},
   "source": [
    "7.Reverse a while loop to display numbers from 10 to 1. "
   ]
  },
  {
   "cell_type": "code",
   "execution_count": 13,
   "id": "cf44d2f3-dd31-4e9d-9b49-c466ea4174af",
   "metadata": {},
   "outputs": [
    {
     "name": "stdout",
     "output_type": "stream",
     "text": [
      "10\n",
      "9\n",
      "8\n",
      "7\n",
      "6\n",
      "5\n",
      "4\n",
      "3\n",
      "2\n",
      "1\n"
     ]
    }
   ],
   "source": [
    "num = 10\n",
    "while num >= 1:\n",
    "    print(num)\n",
    "    num -= 1\n"
   ]
  },
  {
   "cell_type": "code",
   "execution_count": null,
   "id": "b4eae95e-9e58-4477-8d53-20de4881403a",
   "metadata": {},
   "outputs": [],
   "source": []
  }
 ],
 "metadata": {
  "kernelspec": {
   "display_name": "Python 3 (ipykernel)",
   "language": "python",
   "name": "python3"
  },
  "language_info": {
   "codemirror_mode": {
    "name": "ipython",
    "version": 3
   },
   "file_extension": ".py",
   "mimetype": "text/x-python",
   "name": "python",
   "nbconvert_exporter": "python",
   "pygments_lexer": "ipython3",
   "version": "3.10.8"
  }
 },
 "nbformat": 4,
 "nbformat_minor": 5
}
